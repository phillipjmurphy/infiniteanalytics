{
 "cells": [
  {
   "cell_type": "markdown",
   "metadata": {},
   "source": [
    "# wget vs curl vs urllib"
   ]
  },
  {
   "cell_type": "code",
   "execution_count": 1,
   "metadata": {},
   "outputs": [
    {
     "name": "stdout",
     "output_type": "stream",
     "text": [
      "wget: missing URL\r\n",
      "Usage: wget [OPTION]... [URL]...\r\n",
      "\r\n",
      "Try `wget --help' for more options.\r\n"
     ]
    }
   ],
   "source": [
    "\n",
    "!wget "
   ]
  },
  {
   "cell_type": "code",
   "execution_count": 2,
   "metadata": {},
   "outputs": [
    {
     "name": "stdout",
     "output_type": "stream",
     "text": [
      "curl: try 'curl --help' or 'curl --manual' for more information\r\n"
     ]
    }
   ],
   "source": [
    "!curl"
   ]
  },
  {
   "cell_type": "code",
   "execution_count": 3,
   "metadata": {},
   "outputs": [
    {
     "name": "stdout",
     "output_type": "stream",
     "text": [
      "--2018-05-07 18:05:44--  http://downloads.cms.gov/files/DE1_0_2008_to_2010_Prescription_Drug_Events_Sample_1.zip\n",
      "Resolving downloads.cms.gov (downloads.cms.gov)... 23.193.88.59, 2600:1404:e000:285::1fc4, 2600:1404:e000:28c::1fc4\n",
      "Connecting to downloads.cms.gov (downloads.cms.gov)|23.193.88.59|:80... connected.\n",
      "HTTP request sent, awaiting response... 301 Moved Permanently\n",
      "Location: https://downloads.cms.gov/files/DE1_0_2008_to_2010_Prescription_Drug_Events_Sample_1.zip [following]\n",
      "--2018-05-07 18:05:45--  https://downloads.cms.gov/files/DE1_0_2008_to_2010_Prescription_Drug_Events_Sample_1.zip\n",
      "Connecting to downloads.cms.gov (downloads.cms.gov)|23.193.88.59|:443... connected.\n",
      "HTTP request sent, awaiting response... 200 OK\n",
      "Length: 104703956 (100M) [application/zip]\n",
      "Saving to: ‘DE1_0_2008_to_2010_Prescription_Drug_Events_Sample_1.zip’\n",
      "\n",
      "DE1_0_2008_to_2010_ 100%[===================>]  99.85M   882KB/s    in 94s     \n",
      "\n",
      "2018-05-07 18:07:19 (1.07 MB/s) - ‘DE1_0_2008_to_2010_Prescription_Drug_Events_Sample_1.zip’ saved [104703956/104703956]\n",
      "\n"
     ]
    }
   ],
   "source": [
    "!wget http://downloads.cms.gov/files/DE1_0_2008_to_2010_Prescription_Drug_Events_Sample_1.zip"
   ]
  },
  {
   "cell_type": "code",
   "execution_count": null,
   "metadata": {},
   "outputs": [],
   "source": []
  }
 ],
 "metadata": {
  "kernelspec": {
   "display_name": "Python 3",
   "language": "python",
   "name": "python3"
  },
  "language_info": {
   "codemirror_mode": {
    "name": "ipython",
    "version": 3
   },
   "file_extension": ".py",
   "mimetype": "text/x-python",
   "name": "python",
   "nbconvert_exporter": "python",
   "pygments_lexer": "ipython3",
   "version": "3.5.2"
  }
 },
 "nbformat": 4,
 "nbformat_minor": 2
}
